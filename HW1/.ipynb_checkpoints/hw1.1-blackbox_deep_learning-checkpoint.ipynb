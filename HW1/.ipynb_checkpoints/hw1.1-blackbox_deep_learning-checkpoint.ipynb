{
 "cells": [
  {
   "cell_type": "markdown",
   "metadata": {},
   "source": [
    "Prompt: Write colab for illustrating use of SOTA (state of the art)  model architectures of fast ai - using cnn_learner for image classification, unet_learner for segmentation, text_classifier_learner for sentiment analysis, tabular_learner for decisiontree, collab_learner for ranking, - Try to do something different from what is done in the fastai colab (like classify dogs instead of cats, pick some other data set for segmentation etc.,.) - Try to do good inferencing examples as well.\n",
    "\n",
    "\n",
    "https://github.com/fastai/fastbook/blob/master/01_intro.ipynb"
   ]
  },
  {
   "cell_type": "code",
   "execution_count": null,
   "metadata": {},
   "outputs": [],
   "source": []
  }
 ],
 "metadata": {
  "kernelspec": {
   "display_name": "Python 3",
   "language": "python",
   "name": "python3"
  },
  "language_info": {
   "codemirror_mode": {
    "name": "ipython",
    "version": 3
   },
   "file_extension": ".py",
   "mimetype": "text/x-python",
   "name": "python",
   "nbconvert_exporter": "python",
   "pygments_lexer": "ipython3",
   "version": "3.7.1"
  }
 },
 "nbformat": 4,
 "nbformat_minor": 2
}
